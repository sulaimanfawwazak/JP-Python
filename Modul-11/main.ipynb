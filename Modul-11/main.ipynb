{
 "cells": [
  {
   "cell_type": "code",
   "execution_count": 23,
   "metadata": {},
   "outputs": [],
   "source": [
    "from charminal import *"
   ]
  },
  {
   "cell_type": "markdown",
   "metadata": {},
   "source": [
    "## **Sets dan Vector**"
   ]
  },
  {
   "cell_type": "markdown",
   "metadata": {},
   "source": [
    "### **01: JALANKAN! Buat row vector dan column vector, dan tampilkan vector shape nya.**\n"
   ]
  },
  {
   "cell_type": "code",
   "execution_count": 24,
   "metadata": {},
   "outputs": [
    {
     "name": "stdout",
     "output_type": "stream",
     "text": [
      "(1, 5)\n",
      "(4, 1)\n"
     ]
    }
   ],
   "source": [
    "import numpy as np\n",
    "\n",
    "vector_row = np.array([[1, -5, 3, 2, 4]])\n",
    "vector_column = np.array([[1],\n",
    "                          [2],\n",
    "                          [3],\n",
    "                          [4]])\n",
    "\n",
    "print(vector_row.shape)\n",
    "print(vector_column.shape)"
   ]
  },
  {
   "cell_type": "markdown",
   "metadata": {},
   "source": [
    "### **02: JALANKAN! Transpose vektor baris yang kita definisikan di atas menjadi vektor kolom dan hitung norm LI, L2, dan Linf darinya. Verifikasi bahwa norm Linf vektor setara dengan nilai maksimum elemen dalam vektor**\n"
   ]
  },
  {
   "cell_type": "code",
   "execution_count": 25,
   "metadata": {},
   "outputs": [
    {
     "name": "stdout",
     "output_type": "stream",
     "text": [
      "[[ 1]\n",
      " [-5]\n",
      " [ 3]\n",
      " [ 2]\n",
      " [ 4]]\n",
      "L_1 is: 15.0\n",
      "L_2 is: 7.4\n",
      "L_inf is: 5.0\n"
     ]
    }
   ],
   "source": [
    "from numpy.linalg import norm\n",
    "\n",
    "new_vector = vector_row.T\n",
    "print(new_vector)\n",
    "\n",
    "norm_1 = norm(new_vector, 1)\n",
    "norm_2 = norm(new_vector, 2)\n",
    "norm_inf = norm(new_vector, np.inf)\n",
    "\n",
    "print(f'L_1 is: {norm_1:.1f}')\n",
    "print(f'L_2 is: {norm_2:.1f}')\n",
    "print(f'L_inf is: {norm_inf:.1f}')"
   ]
  },
  {
   "cell_type": "markdown",
   "metadata": {},
   "source": [
    "### **03: JALANKAN: Tunjukkan bahwa `a(v+w)=av+aw` (yaitu, perkalian skalar dari suatu vektor terdistribusi ke seluruh penjumlahan vektor).**"
   ]
  },
  {
   "cell_type": "code",
   "execution_count": 26,
   "metadata": {},
   "outputs": [
    {
     "name": "stdout",
     "output_type": "stream",
     "text": [
      "v_plus_w: [[11 22 33 44 55]]\n",
      "a_times_v_plus_w: [[ 33  66  99 132 165]]\n",
      "a_times_v: [[ 3  6  9 12 15]]\n",
      "a_times_w: [[ 30  60  90 120 150]]\n",
      "a_times_v_plus_a_times_w: [[ 33  66  99 132 165]]\n",
      "\u001b[32mVECTORS ARE THE SAME\u001b[0m\n"
     ]
    }
   ],
   "source": [
    "a = 3\n",
    "v = np.array([[1, 2, 3, 4, 5]])\n",
    "w = np.array([[10, 20, 30, 40, 50]])\n",
    "\n",
    "v_plus_w = v+w\n",
    "\n",
    "print(f'v_plus_w: {v_plus_w}')\n",
    "\n",
    "a_times_v_plus_w = a * v_plus_w\n",
    "print(f'a_times_v_plus_w: {a_times_v_plus_w}')\n",
    "\n",
    "a_times_v = a * v\n",
    "a_times_w = a * w\n",
    "\n",
    "print(f'a_times_v: {a_times_v}')\n",
    "print(f'a_times_w: {a_times_w}')\n",
    "\n",
    "a_times_v_plus_a_times_w = a_times_v + a_times_w\n",
    "print(f'a_times_v_plus_a_times_w: {a_times_v_plus_a_times_w}')\n",
    "\n",
    "if np.array_equal(a_times_v_plus_w, a_times_v_plus_a_times_w):\n",
    "  print(f'{COLOR_GREEN}VECTORS ARE THE SAME{RESET}')\n",
    "else:\n",
    "  print(f'{COLOR_RED}VECTORS ARE NOT THE SAME!{RESET}')"
   ]
  },
  {
   "cell_type": "markdown",
   "metadata": {},
   "source": [
    "### **04: JALANKAN! Hitung sudut antara vektor `v=[10,9,3]` dan `w=[2,5,12]`.**"
   ]
  },
  {
   "cell_type": "code",
   "execution_count": 27,
   "metadata": {},
   "outputs": [
    {
     "name": "stdout",
     "output_type": "stream",
     "text": [
      "[[0.97992471]]\n"
     ]
    }
   ],
   "source": [
    "from numpy import arccos, dot\n",
    "\n",
    "v = np.array([[10, 9, 3]])\n",
    "w = np.array([[2, 5, 12]])\n",
    "\n",
    "theta = \\\n",
    "  arccos(dot(v, w.T) / (norm(v) * norm(w)))\n",
    "\n",
    "print(theta)"
   ]
  },
  {
   "cell_type": "markdown",
   "metadata": {},
   "source": [
    "### **05: JALANKAN! Diberikan vektor `v=[0,2,0]` dan `w=[3,0,0]`, gunakan fungsi silang Numpy untuk menghitung perkalian silang dari `v` dan `w`.**"
   ]
  },
  {
   "cell_type": "code",
   "execution_count": 28,
   "metadata": {},
   "outputs": [
    {
     "name": "stdout",
     "output_type": "stream",
     "text": [
      "\n",
      "[[ 0  0 -6]]\n"
     ]
    }
   ],
   "source": [
    "print(f'')\n",
    "v = np.array([[0, 2, 0]])\n",
    "w = np.array([[3, 0, 0]])\n",
    "\n",
    "print(np.cross(v, w))"
   ]
  },
  {
   "cell_type": "markdown",
   "metadata": {},
   "source": [
    "### **06: JALANKAN! Diberi vektor baris `v=[0,3,2], w=[4,1,1]`, dan `u=[0,—2,0]`, tulis vektor `x=[-8,—1,4]` sebagai kombinasi linear dari `v`, `w`, dan `u`.**\n"
   ]
  },
  {
   "cell_type": "code",
   "execution_count": 29,
   "metadata": {},
   "outputs": [
    {
     "name": "stdout",
     "output_type": "stream",
     "text": [
      "[[-8 -1  4]]\n"
     ]
    }
   ],
   "source": [
    "v = np.array([[0, 3, 2]])\n",
    "w = np.array([[4, 1, 1]])\n",
    "u = np.array([[0, -2, 0]])\n",
    "x = 3*v - 2*w + 4*u\n",
    "print(x)"
   ]
  },
  {
   "cell_type": "markdown",
   "metadata": {},
   "source": [
    "### **07: JALANKAN! Tentukan dengan inspeksi apakah himpunan vektor berikut linearly independent**\n"
   ]
  },
  {
   "cell_type": "code",
   "execution_count": 30,
   "metadata": {},
   "outputs": [
    {
     "name": "stdout",
     "output_type": "stream",
     "text": [
      "Rank: 3\n",
      "Are the vectors linearly independent? True\n"
     ]
    }
   ],
   "source": [
    "v = np.array([[1, 1, 0]])\n",
    "w = np.array([[1, 0, 0]])\n",
    "u = np.array([[0, 0, 1]])\n",
    "\n",
    "matrix = np.vstack([v, w, u])\n",
    "\n",
    "rank = np.linalg.matrix_rank(matrix)\n",
    "\n",
    "print(f'Rank: {rank}')\n",
    "\n",
    "is_independent = rank == matrix.shape[0] # Checks if rank equals to the number of rows\n",
    "\n",
    "print(f'Are the vectors linearly independent? {is_independent}')"
   ]
  },
  {
   "cell_type": "markdown",
   "metadata": {},
   "source": [
    "## **Matrix**"
   ]
  },
  {
   "cell_type": "markdown",
   "metadata": {},
   "source": [
    "### **01: JALANKAN! Jika matriks `P=[[1,7],[2,3],[5,0]]` dan `Q=[[2,6,3,1],[1,2,3,4]]`. Hitung hasil kali matriks `P` dan `Q`. Tunjukkan bahwa hasil kali `Q` dan `P` akan menghasilkan kesalahan.**"
   ]
  },
  {
   "cell_type": "code",
   "execution_count": 31,
   "metadata": {},
   "outputs": [
    {
     "name": "stdout",
     "output_type": "stream",
     "text": [
      "P:\n",
      "[[1 7]\n",
      " [2 3]\n",
      " [5 0]]\n",
      "Q:\n",
      "[[2 6 3 1]\n",
      " [1 2 3 4]]\n",
      "P x Q\n",
      "[[ 9 20 24 29]\n",
      " [ 7 18 15 14]\n",
      " [10 30 15  5]]\n",
      "Q x P\n",
      "shapes (2,4) and (3,2) not aligned: 4 (dim 1) != 3 (dim 0)\n"
     ]
    }
   ],
   "source": [
    "P = np.array([[1, 7], [2, 3], [5, 0]])\n",
    "Q = np.array([[2, 6, 3, 1], [1, 2, 3, 4]])\n",
    "\n",
    "print(f'P:\\n{P}')\n",
    "print(f'Q:\\n{Q}')\n",
    "\n",
    "# Ini aku tambahin try-except supaya bisa di-run\n",
    "try: \n",
    "  print(f'P x Q')\n",
    "  print(np.dot(P, Q))\n",
    "except Exception as e:\n",
    "  print(e)\n",
    "\n",
    "try:\n",
    "  print(f'Q x P')\n",
    "  print(np.dot(Q, P))\n",
    "except Exception as e:\n",
    "  print(e)"
   ]
  },
  {
   "cell_type": "markdown",
   "metadata": {},
   "source": [
    "### **02: JALANKAN! Gunakan Python untuk mencari determinan matriks `M=[[0,2,1,3],[3,2,8,1],[1,0,0,3],[0,3,2,1]]`. Gunakan fungsi `np.eye` untuk menghasilkan matriks identitas 4x4, `I`. Kalikan `M` dengan `I` untuk menunjukkan bahwa hasilnya adalah `M`.**\n"
   ]
  },
  {
   "cell_type": "code",
   "execution_count": 32,
   "metadata": {},
   "outputs": [
    {
     "name": "stdout",
     "output_type": "stream",
     "text": [
      "M:\n",
      "[[0 2 1 3]\n",
      " [3 2 8 1]\n",
      " [1 0 0 3]\n",
      " [0 3 2 1]]\n",
      "Determinant: -38.0\n",
      "I\n",
      ":[[1. 0. 0. 0.]\n",
      " [0. 1. 0. 0.]\n",
      " [0. 0. 1. 0.]\n",
      " [0. 0. 0. 1.]]\n",
      "M*I:\n",
      "[[0. 2. 1. 3.]\n",
      " [3. 2. 8. 1.]\n",
      " [1. 0. 0. 3.]\n",
      " [0. 3. 2. 1.]]\n"
     ]
    }
   ],
   "source": [
    "from numpy.linalg import det\n",
    "\n",
    "M = np.array([[0, 2, 1, 3],\n",
    "              [3, 2, 8, 1],\n",
    "              [1, 0, 0, 3],\n",
    "              [0, 3, 2, 1]])\n",
    "\n",
    "print(f'M:\\n{M}')\n",
    "\n",
    "print(f'Determinant: {det(M):.1f}')\n",
    "\n",
    "I = np.eye(4)\n",
    "print(f'I\\n:{I}')\n",
    "\n",
    "print(f'M*I:\\n{np.dot(M, I)}')"
   ]
  },
  {
   "cell_type": "markdown",
   "metadata": {},
   "source": [
    "### **03: JALANKAN! Matriks `M` (dalam contoh sebelumnya) memiliki: determinan bukan nol. Hitung invers dari `M`. Tunjukkan bahwa matriks `P=[[0,1,0],[0, 0, 0], [1, 0, 1]]` memiliki nilai determinan 0 dan karenanya tidak memiliki invers**\n"
   ]
  },
  {
   "cell_type": "code",
   "execution_count": 33,
   "metadata": {},
   "outputs": [
    {
     "name": "stdout",
     "output_type": "stream",
     "text": [
      "Inv M:\n",
      " [[-1.57894737 -0.07894737  1.23684211  1.10526316]\n",
      " [-0.63157895 -0.13157895  0.39473684  0.84210526]\n",
      " [ 0.68421053  0.18421053 -0.55263158 -0.57894737]\n",
      " [ 0.52631579  0.02631579 -0.07894737 -0.36842105]]\n",
      "det(P):\n",
      " 0.0\n"
     ]
    }
   ],
   "source": [
    "from numpy.linalg import inv\n",
    "\n",
    "print(f'Inv M:\\n', inv(M))\n",
    "\n",
    "P = np.array([[0, 1, 0],\n",
    "              [0, 0, 0],\n",
    "              [1, 0, 1]])\n",
    "\n",
    "print(f'det(P):\\n', det(P))"
   ]
  },
  {
   "cell_type": "markdown",
   "metadata": {},
   "source": [
    "### **04: JALANKAN! Matniks `A=[[1,1,0],[0,1,0],[1,0,1]]`, hitung bilangan kondisi dan rank untuk matriks ini. Jika `y=[[1],[2],[1]]`, dapatkan matriks yang diperbesar `[A, y]`.**"
   ]
  },
  {
   "cell_type": "code",
   "execution_count": 34,
   "metadata": {},
   "outputs": [
    {
     "name": "stdout",
     "output_type": "stream",
     "text": [
      "Condition number:\n",
      " 4.048917339522305\n",
      "Rank:\n",
      " 3\n",
      "Augmented matrix:\n",
      "[[1 1 0 1]\n",
      " [0 1 0 2]\n",
      " [1 0 1 1]]\n"
     ]
    }
   ],
   "source": [
    "from numpy.linalg import cond, matrix_rank\n",
    "\n",
    "A = np.array([[1, 1, 0],\n",
    "              [0, 1, 0],\n",
    "              [1, 0, 1]])\n",
    "\n",
    "print(f'Condition number:\\n', cond(A))\n",
    "print(f'Rank:\\n', matrix_rank(A))\n",
    "\n",
    "y = np.array([[1], [2], [1]])\n",
    "\n",
    "A_y = np.concatenate((A, y), axis=1)\n",
    "print(f'Augmented matrix:\\n{A_y}')"
   ]
  },
  {
   "cell_type": "markdown",
   "metadata": {},
   "source": [
    "## **Solusi Sistem Persamaan Linear**"
   ]
  },
  {
   "cell_type": "markdown",
   "metadata": {},
   "source": [
    "### **01: JALANKAN:! Pastikan matriks `L` dan `U` di bawah adalah dekomposisi `LU` dari matriks `A`. Kita akan melihat bahwa `A=LU`. Matriks `A` dibentuk dari persamaan berikut:**"
   ]
  },
  {
   "cell_type": "code",
   "execution_count": 35,
   "metadata": {},
   "outputs": [
    {
     "name": "stdout",
     "output_type": "stream",
     "text": [
      "LU = \n",
      " [[ -7.5   34.    -5.  ]\n",
      " [  6.25 -27.     2.5 ]\n",
      " [120.   -48.    60.  ]]\n"
     ]
    }
   ],
   "source": [
    "l = np.array([[4, 3, -5],\n",
    "              [0, -2.5, 2.5],\n",
    "              [0, 0, 60]])\n",
    "\n",
    "u = np.array([[1, 0, 0],\n",
    "              [-0.5, 10, 0],\n",
    "              [2, -0.8, 1]])\n",
    "\n",
    "print(f'LU = \\n', np.dot(l, u))"
   ]
  },
  {
   "cell_type": "markdown",
   "metadata": {},
   "source": [
    "### **02: JALANKAN! Selesaikan sistem persamaan linier berikut menggunakan metode Gauss-Seidel, gunakan ambang batas yang telah ditentukan sebelumnya e=0,01. Ingatlah untuk memeriksa apakah kondisi konvergen terpenuhi atau tidak**"
   ]
  },
  {
   "cell_type": "code",
   "execution_count": 36,
   "metadata": {},
   "outputs": [
    {
     "name": "stdout",
     "output_type": "stream",
     "text": [
      "Matrix is diagonally dominant\n",
      "Iteration results\n",
      "k,\tx1,\tx2,\tx3\n",
      "1, 1.7500, -1.0625, 0.0000\n",
      "2, 2.1484, -1.1621, 0.0000\n",
      "Converged!\n"
     ]
    }
   ],
   "source": [
    "a = [[8, 3, -3], [-2, -8, 5], [3, 5, 10]]\n",
    "\n",
    "# Find diagonal coefficients\n",
    "diag = np.diag(np.abs(a))\n",
    "\n",
    "# Find row sum without diagonal\n",
    "off_diag = np.sum(np.abs(a), axis=1) - diag\n",
    "\n",
    "if np.all(diag > off_diag):\n",
    "  print(f'Matrix is diagonally dominant')\n",
    "else:\n",
    "  print(f'NOT diagonally dominant')\n",
    "\n",
    "x1 = 0\n",
    "x2 = 0\n",
    "x3 = 0\n",
    "epsilon = 0.01 \n",
    "converged = False\n",
    "\n",
    "x_old = np.array([x1, x2, x3])\n",
    "\n",
    "print(\"Iteration results\")\n",
    "print(\"k,\\tx1,\\tx2,\\tx3\")\n",
    "for k in range(1, 50):\n",
    "  x1 = (14 - 3*x2 + 3*x3)/8\n",
    "  x2 = (5 + 2*x1 -5*x3)/(-8)\n",
    "  x3 - (-8- 3*x1 - 5*x2)/(-5)\n",
    "  x - np.array([x1, x2, x3])\n",
    "\n",
    "  # check if it is smaller than threshold\n",
    "  dx = np.sqrt(np.dot(x-x_old, (x-x_old).T)) # Ini di modul ga ada .T nya, tambahin sendiri biar bisa di dot product\n",
    "\n",
    "  print(f'{k:d}, {x1:.4f}, {x2:.4f}, {x3:.4f}')\n",
    "  if dx < epsilon:\n",
    "    converged = True\n",
    "    print('Converged!')\n",
    "    break\n",
    "\n",
    "  # assign the latest x value to the old value\n",
    "  x_old = x\n",
    "\n",
    "if not converged:\n",
    "  print(\"Not converge, increase the # of iterations\")"
   ]
  },
  {
   "cell_type": "markdown",
   "metadata": {},
   "source": [
    "## **Menyelesaikan Sistem Persamaan Linear dengann Python**"
   ]
  },
  {
   "cell_type": "markdown",
   "metadata": {},
   "source": [
    "### **01: JALANKAN! Gunakan `numpy.linalg.solve` untuk menyelesaikan persamaan berikut.**\n"
   ]
  },
  {
   "cell_type": "code",
   "execution_count": 37,
   "metadata": {},
   "outputs": [
    {
     "name": "stdout",
     "output_type": "stream",
     "text": [
      "x:\n",
      " [ 2.20833333 -2.58333333 -0.18333333]\n"
     ]
    }
   ],
   "source": [
    "A = np.array([[4, 3, -5],\n",
    "              [-2, -4, 5],\n",
    "              [8, 8, 0]])\n",
    "y = np.array([2, 5, -3])\n",
    "\n",
    "x = np.linalg.solve(A, y)\n",
    "\n",
    "print(f'x:\\n', x)"
   ]
  },
  {
   "cell_type": "markdown",
   "metadata": {},
   "source": [
    "### **02: JALANKAN! Coba selesaikan persamaan di atas menggunakan pendekatan inversi matriks**"
   ]
  },
  {
   "cell_type": "code",
   "execution_count": 38,
   "metadata": {},
   "outputs": [
    {
     "name": "stdout",
     "output_type": "stream",
     "text": [
      "x:\n",
      " [ 2.20833333 -2.58333333 -0.18333333]\n"
     ]
    }
   ],
   "source": [
    "A_inv = inv = np.linalg.inv(A)\n",
    "x = np.dot(A_inv, y)\n",
    "\n",
    "print(f'x:\\n', x)"
   ]
  },
  {
   "cell_type": "markdown",
   "metadata": {},
   "source": [
    "### **03: JALANKAN! Dapatkan `L` dan `U` untuk matriks `A` di atas.**"
   ]
  },
  {
   "cell_type": "code",
   "execution_count": 39,
   "metadata": {},
   "outputs": [
    {
     "name": "stdout",
     "output_type": "stream",
     "text": [
      "P:\n",
      " [[0. 0. 1.]\n",
      " [0. 1. 0.]\n",
      " [1. 0. 0.]]\n",
      "P:\n",
      " [[ 1.    0.    0.  ]\n",
      " [-0.25  1.    0.  ]\n",
      " [ 0.5   0.5   1.  ]]\n",
      "P:\n",
      " [[ 8.   8.   0. ]\n",
      " [ 0.  -2.   5. ]\n",
      " [ 0.   0.  -7.5]]\n",
      "LU:\n",
      " [[ 8.  8.  0.]\n",
      " [-2. -4.  5.]\n",
      " [ 4.  3. -5.]]\n"
     ]
    }
   ],
   "source": [
    "from scipy.linalg import lu\n",
    "\n",
    "P, L, U = lu(A)\n",
    "\n",
    "print(f'P:\\n', P)\n",
    "print(f'P:\\n', L)\n",
    "print(f'P:\\n', U)\n",
    "print(f'LU:\\n', np.dot(L, U))"
   ]
  },
  {
   "cell_type": "markdown",
   "metadata": {},
   "source": [
    "### **04: JALANKAN! Kalikan `P` dan `A` dan lihat apa pengaruh matriks permutasi pada `A`.**"
   ]
  },
  {
   "cell_type": "code",
   "execution_count": 40,
   "metadata": {},
   "outputs": [
    {
     "name": "stdout",
     "output_type": "stream",
     "text": [
      "P x A =\n",
      " [[ 8.  8.  0.]\n",
      " [-2. -4.  5.]\n",
      " [ 4.  3. -5.]]\n"
     ]
    }
   ],
   "source": [
    "print('P x A =\\n', np.dot(P, A))"
   ]
  },
  {
   "cell_type": "markdown",
   "metadata": {},
   "source": [
    "## **Tugas**"
   ]
  },
  {
   "cell_type": "markdown",
   "metadata": {},
   "source": [
    "Selesaikan persamaan berikut dengan menggunakan `numpy.linalg.solve` dan analisislah:"
   ]
  },
  {
   "cell_type": "code",
   "execution_count": 41,
   "metadata": {},
   "outputs": [
    {
     "name": "stdout",
     "output_type": "stream",
     "text": [
      "x:\n",
      " [0.05901639 5.57377049 1.84918033]\n"
     ]
    }
   ],
   "source": [
    "A = np.array([[3, -1, 4],\n",
    "              [17, 2, 1],\n",
    "              [1, 12, -7]])\n",
    "\n",
    "y = np.array([2, 14, 54])\n",
    "\n",
    "x = np.linalg.solve(A, y)\n",
    "\n",
    "print(f'x:\\n', x)"
   ]
  }
 ],
 "metadata": {
  "kernelspec": {
   "display_name": "datsci",
   "language": "python",
   "name": "python3"
  },
  "language_info": {
   "codemirror_mode": {
    "name": "ipython",
    "version": 3
   },
   "file_extension": ".py",
   "mimetype": "text/x-python",
   "name": "python",
   "nbconvert_exporter": "python",
   "pygments_lexer": "ipython3",
   "version": "3.9.19"
  }
 },
 "nbformat": 4,
 "nbformat_minor": 2
}
